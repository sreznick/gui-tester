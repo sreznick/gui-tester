{
 "cells": [
  {
   "cell_type": "code",
   "execution_count": 24,
   "metadata": {
    "id": "JgH7YPRB-7g1"
   },
   "outputs": [],
   "source": [
    "seed = 42\n",
    "\n",
    "\n",
    "import torch\n",
    "torch.manual_seed(seed)\n",
    "import random\n",
    "random.seed(seed)\n",
    "import numpy as np\n",
    "np.random.seed(seed)\n",
    "import numpy as np\n",
    "import string\n",
    "import matplotlib.pyplot as plt\n",
    "from tqdm import trange\n",
    "from IPython.display import clear_output\n",
    "import os\n",
    "import pickle\n",
    "from typing import Any, Callable, Optional, Tuple\n",
    "from PIL import Image\n",
    "\n",
    "from torch import nn\n",
    "from torch.utils.data import DataLoader, random_split\n",
    "from torchvision.transforms import ToTensor, Compose\n",
    "from torchvision.datasets.vision import VisionDataset\n",
    "from torchvision import transforms"
   ]
  },
  {
   "cell_type": "code",
   "execution_count": 25,
   "metadata": {
    "colab": {
     "base_uri": "https://localhost:8080/"
    },
    "id": "6FVHuokn-7hE",
    "outputId": "ab377131-4422-4c44-b036-84f15c9c43af"
   },
   "outputs": [
    {
     "name": "stdout",
     "output_type": "stream",
     "text": [
      "Drive already mounted at /content/drive; to attempt to forcibly remount, call drive.mount(\"/content/drive\", force_remount=True).\n"
     ]
    }
   ],
   "source": [
    "\n",
    "from google.colab import drive\n",
    "drive.mount('/content/drive')"
   ]
  },
  {
   "cell_type": "code",
   "execution_count": 26,
   "metadata": {
    "id": "65SBhijf-7hI"
   },
   "outputs": [],
   "source": [
    "from pathlib import Path \n",
    "dataset_root = Path(\"/content/drive/MyDrive/data\") "
   ]
  },
  {
   "cell_type": "code",
   "execution_count": 27,
   "metadata": {
    "id": "GGR2Fmsw-7hT"
   },
   "outputs": [],
   "source": [
    "class MyDataset(VisionDataset):\n",
    "\n",
    "    def __init__(self,\n",
    "                 root: str,\n",
    "                 train: bool = True,\n",
    "                 transform: Optional[Callable] = None,\n",
    "                 target_transform: Optional[Callable] = None,\n",
    "                 ) -> None:\n",
    "\n",
    "        super().__init__(root, transform=transform, target_transform=target_transform)\n",
    "        self.train = train\n",
    "        digit='0123456789'\n",
    "        self.classes= list(string.ascii_lowercase)+list(string.ascii_uppercase)+list(digit)\n",
    "\n",
    "        self.class_to_idx = {_class: i for i, _class in enumerate(self.classes)}\n",
    "        data_path = os.path.join(self.root, 'letters.pkl')\n",
    "         \n",
    "        with open(data_path, \"rb\") as f:\n",
    "            dataX1, dataY1 = pickle.load(f)\n",
    "            a1=np.stack((dataX1,dataX1,dataX1),axis=-1)\n",
    "            self.data = a1\n",
    "            self.targets = [self.class_to_idx[i] for i in dataY1]\n",
    "\n",
    "    def __getitem__(self, index: int) -> Tuple[Any, Any]:\n",
    "        img = Image.fromarray(self.data[index])\n",
    "#         target = self.targets[index] if self.targets else len(self.classes)\n",
    "        target = self.targets[index] \n",
    "\n",
    "        if self.transform is not None:\n",
    "            img = self.transform(img)\n",
    "        if self.target_transform is not None:\n",
    "            target = self.target_transform(target)\n",
    "        return img, target\n",
    "\n",
    "    def __len__(self) -> int:\n",
    "        return len(self.data)\n",
    "        \n",
    "    def extra_repr(self) -> str:\n",
    "        split = \"Train\" if self.train is True else \"Test\"\n",
    "        return f\"Split: {split}\""
   ]
  },
  {
   "cell_type": "code",
   "execution_count": 28,
   "metadata": {
    "colab": {
     "base_uri": "https://localhost:8080/"
    },
    "id": "dVfd-8-s-7ha",
    "outputId": "a4ba3c70-2d50-45f3-b6cb-b2d589ff0b48"
   },
   "outputs": [
    {
     "name": "stdout",
     "output_type": "stream",
     "text": [
      "Requirement already satisfied: albumentations in /usr/local/lib/python3.7/dist-packages (1.1.0)\n",
      "Requirement already satisfied: opencv-python-headless>=4.1.1 in /usr/local/lib/python3.7/dist-packages (from albumentations) (4.5.4.60)\n",
      "Requirement already satisfied: numpy>=1.11.1 in /usr/local/lib/python3.7/dist-packages (from albumentations) (1.19.5)\n",
      "Requirement already satisfied: PyYAML in /usr/local/lib/python3.7/dist-packages (from albumentations) (3.13)\n",
      "Requirement already satisfied: qudida>=0.0.4 in /usr/local/lib/python3.7/dist-packages (from albumentations) (0.0.4)\n",
      "Requirement already satisfied: scipy in /usr/local/lib/python3.7/dist-packages (from albumentations) (1.4.1)\n",
      "Requirement already satisfied: scikit-image>=0.16.1 in /usr/local/lib/python3.7/dist-packages (from albumentations) (0.18.3)\n",
      "Requirement already satisfied: scikit-learn>=0.19.1 in /usr/local/lib/python3.7/dist-packages (from qudida>=0.0.4->albumentations) (1.0.1)\n",
      "Requirement already satisfied: typing-extensions in /usr/local/lib/python3.7/dist-packages (from qudida>=0.0.4->albumentations) (3.10.0.2)\n",
      "Requirement already satisfied: tifffile>=2019.7.26 in /usr/local/lib/python3.7/dist-packages (from scikit-image>=0.16.1->albumentations) (2021.11.2)\n",
      "Requirement already satisfied: PyWavelets>=1.1.1 in /usr/local/lib/python3.7/dist-packages (from scikit-image>=0.16.1->albumentations) (1.2.0)\n",
      "Requirement already satisfied: networkx>=2.0 in /usr/local/lib/python3.7/dist-packages (from scikit-image>=0.16.1->albumentations) (2.6.3)\n",
      "Requirement already satisfied: matplotlib!=3.0.0,>=2.0.0 in /usr/local/lib/python3.7/dist-packages (from scikit-image>=0.16.1->albumentations) (3.2.2)\n",
      "Requirement already satisfied: pillow!=7.1.0,!=7.1.1,>=4.3.0 in /usr/local/lib/python3.7/dist-packages (from scikit-image>=0.16.1->albumentations) (7.1.2)\n",
      "Requirement already satisfied: imageio>=2.3.0 in /usr/local/lib/python3.7/dist-packages (from scikit-image>=0.16.1->albumentations) (2.4.1)\n",
      "Requirement already satisfied: kiwisolver>=1.0.1 in /usr/local/lib/python3.7/dist-packages (from matplotlib!=3.0.0,>=2.0.0->scikit-image>=0.16.1->albumentations) (1.3.2)\n",
      "Requirement already satisfied: python-dateutil>=2.1 in /usr/local/lib/python3.7/dist-packages (from matplotlib!=3.0.0,>=2.0.0->scikit-image>=0.16.1->albumentations) (2.8.2)\n",
      "Requirement already satisfied: cycler>=0.10 in /usr/local/lib/python3.7/dist-packages (from matplotlib!=3.0.0,>=2.0.0->scikit-image>=0.16.1->albumentations) (0.11.0)\n",
      "Requirement already satisfied: pyparsing!=2.0.4,!=2.1.2,!=2.1.6,>=2.0.1 in /usr/local/lib/python3.7/dist-packages (from matplotlib!=3.0.0,>=2.0.0->scikit-image>=0.16.1->albumentations) (3.0.6)\n",
      "Requirement already satisfied: six>=1.5 in /usr/local/lib/python3.7/dist-packages (from python-dateutil>=2.1->matplotlib!=3.0.0,>=2.0.0->scikit-image>=0.16.1->albumentations) (1.15.0)\n",
      "Requirement already satisfied: threadpoolctl>=2.0.0 in /usr/local/lib/python3.7/dist-packages (from scikit-learn>=0.19.1->qudida>=0.0.4->albumentations) (3.0.0)\n",
      "Requirement already satisfied: joblib>=0.11 in /usr/local/lib/python3.7/dist-packages (from scikit-learn>=0.19.1->qudida>=0.0.4->albumentations) (1.1.0)\n"
     ]
    }
   ],
   "source": [
    "!pip install albumentations --upgrade\n",
    "# data.data.shape"
   ]
  },
  {
   "cell_type": "code",
   "execution_count": 29,
   "metadata": {
    "id": "TMWKcpQ2-7hd"
   },
   "outputs": [],
   "source": [
    "# a=np.array([1,2,3,4,5,6,7,8]).reshape(4,2)\n",
    "# a\n",
    "# a=np.stack((a,a,a,a,a),axis=0)\n",
    "# a.shape\n",
    "# a=np.stack((a,a,a),axis=-1)\n",
    "# a.shape"
   ]
  },
  {
   "cell_type": "code",
   "execution_count": 30,
   "metadata": {
    "id": "nVYCUCUa-7hg"
   },
   "outputs": [],
   "source": [
    "import albumentations as A\n",
    "from albumentations.pytorch import ToTensorV2"
   ]
  },
  {
   "cell_type": "code",
   "execution_count": 31,
   "metadata": {
    "id": "1-dBs-9_-7hh"
   },
   "outputs": [],
   "source": [
    "# dataset_root=\"C:/Users/iaksh/YandexDisk/__Cs_center/_Project_2/\"\n",
    "\n",
    "data = MyDataset(\n",
    "    root=dataset_root,\n",
    "    train=True,\n",
    "    transform=transforms.ToTensor(),\n",
    ")"
   ]
  },
  {
   "cell_type": "code",
   "execution_count": 32,
   "metadata": {
    "id": "swJSZXU2-7hl"
   },
   "outputs": [],
   "source": [
    "means = data.data.mean(axis=(0,1,2))/255\n",
    "stds = data.data.std(axis=(0,1,2))/255"
   ]
  },
  {
   "cell_type": "code",
   "execution_count": 33,
   "metadata": {
    "colab": {
     "base_uri": "https://localhost:8080/"
    },
    "id": "7RrG4NlP-7hr",
    "outputId": "007e63c8-cea1-4ad3-c1be-6d476015c0ec"
   },
   "outputs": [
    {
     "data": {
      "text/plain": [
       "(array([0.87174763, 0.87174763, 0.87174763]),\n",
       " array([0.25635803, 0.25635803, 0.25635803]))"
      ]
     },
     "execution_count": 33,
     "metadata": {},
     "output_type": "execute_result"
    }
   ],
   "source": [
    "means,stds"
   ]
  },
  {
   "cell_type": "code",
   "execution_count": 34,
   "metadata": {
    "id": "OhT2gyQg-7ht"
   },
   "outputs": [],
   "source": [
    "data = MyDataset(\n",
    "    root=dataset_root,\n",
    "    train=True,\n",
    "    transform=transforms.Compose([\n",
    "               transforms.ToTensor(),\n",
    "               transforms.Normalize(means, stds)\n",
    "              ])\n",
    ")"
   ]
  },
  {
   "cell_type": "code",
   "execution_count": 35,
   "metadata": {
    "colab": {
     "base_uri": "https://localhost:8080/"
    },
    "id": "AUIL70J_-7hx",
    "outputId": "65bd0e5c-4701-4715-c364-b77dd4e7c182"
   },
   "outputs": [
    {
     "data": {
      "text/plain": [
       "62"
      ]
     },
     "execution_count": 35,
     "metadata": {},
     "output_type": "execute_result"
    }
   ],
   "source": [
    "# len=data.data.shape[0]\n",
    "len(data.classes)"
   ]
  },
  {
   "cell_type": "code",
   "execution_count": 36,
   "metadata": {
    "id": "v5YyFmhK-7h1"
   },
   "outputs": [],
   "source": [
    "train_data, val_data = torch.utils.data.random_split(\n",
    "    data, \n",
    "    [62496, 15624], \n",
    "    generator=torch.Generator().manual_seed(42),\n",
    ")"
   ]
  },
  {
   "cell_type": "code",
   "execution_count": 37,
   "metadata": {
    "id": "72CCxsIT-7h4"
   },
   "outputs": [],
   "source": [
    "train_data, test_data = torch.utils.data.random_split(\n",
    "    train_data, \n",
    "    [46872, 15624], \n",
    "    generator=torch.Generator().manual_seed(42),\n",
    ")"
   ]
  },
  {
   "cell_type": "code",
   "execution_count": 37,
   "metadata": {
    "id": "rNLotWtN-7h5"
   },
   "outputs": [],
   "source": []
  },
  {
   "cell_type": "code",
   "execution_count": 38,
   "metadata": {
    "id": "ULFxMdSk-7h-"
   },
   "outputs": [],
   "source": [
    "def show_progress(t):\n",
    "    clear_output(wait=True)\n",
    "    fig, (ax1, ax2) = plt.subplots(1, 2, constrained_layout=True, figsize=(20, 5))\n",
    "    fig.suptitle(f'Epoch {t:3.3f}', fontsize=16)\n",
    "    ax1.set_title('loss')\n",
    "    ax1.set_xlabel('time (epochs)')\n",
    "    ax1.set_ylabel('loss')\n",
    "    ax1.plot(train_ts, train_loss, c='darkblue', lw=3)\n",
    "    ax1.plot(val_ts, val_loss, c='green', marker='o', lw=5)\n",
    "    ax2.set_title('accuracy')\n",
    "    ax2.set_xlabel('time (epochs)')\n",
    "    ax2.plot(val_ts, val_acc, c='green', marker='o', lw=5)\n",
    "    plt.show() \n",
    "def train(epoch, dataloader, model, loss_fn, optimizer, show_progr=True, scheduler=None):\n",
    "    model.train()\n",
    "    num_batches = len(dataloader)\n",
    "    for batch, (X, y) in enumerate(dataloader):\n",
    "        # Send data to training device\n",
    "#         print(y)\n",
    "#         print(X.shape)\n",
    "#         y= torch.tensor(y)\n",
    "        X, y = X.to(device),y.to(device)\n",
    "        # Compute prediction error\n",
    "        pred = model(X)\n",
    "#         print(y.shape,pred.shape)\n",
    "\n",
    "        loss = loss_fn(pred, y)\n",
    "        # Backpropagation\n",
    "        optimizer.zero_grad()\n",
    "        loss.backward()\n",
    "        optimizer.step()\n",
    "        # Progress output\n",
    "        if batch % interval == 0:\n",
    "            t = epoch + (batch + 1)/num_batches\n",
    "            train_ts.append(t)\n",
    "            train_loss.append(loss.item())\n",
    "\n",
    "            if show_progr:\n",
    "                show_progress(t)\n",
    "    \n",
    "    if scheduler is not None:\n",
    "        scheduler.step()"
   ]
  },
  {
   "cell_type": "code",
   "execution_count": 39,
   "metadata": {
    "id": "tpwbt7oM-7iA"
   },
   "outputs": [],
   "source": [
    "def test(epoch, dataloader, model, loss_fn, show_progr=True):\n",
    "    model.eval()\n",
    "    num_batches = len(dataloader)\n",
    "    size = len(dataloader.dataset)\n",
    "    test_loss, correct = 0, 0\n",
    "    with torch.no_grad():\n",
    "        for X, y in dataloader:\n",
    "            X, y = X.to(device), y.to(device)\n",
    "            pred = model(X)\n",
    "            test_loss += loss_fn(pred, y).item()\n",
    "            correct += (pred.argmax(1) == y).type(torch.float).sum().item()\n",
    "    test_loss /= num_batches\n",
    "    correct /= size\n",
    "    val_ts.append(epoch+1)\n",
    "    val_loss.append(test_loss)\n",
    "    val_acc.append(correct)\n",
    "    \n",
    "    if show_progr:\n",
    "        show_progress(epoch+1)"
   ]
  },
  {
   "cell_type": "code",
   "execution_count": 40,
   "metadata": {
    "id": "sVubmdvB-7iC"
   },
   "outputs": [],
   "source": [
    "def create_FullyConv_model():\n",
    "    return nn.Sequential(\n",
    "              nn.Conv2d(3, 64, 3, padding=1),\n",
    "              nn.BatchNorm2d(64),\n",
    "              nn.ReLU(),\n",
    "              nn.MaxPool2d(2, stride=2),\n",
    "              nn.Conv2d(64, 128, 3, padding=1),\n",
    "              nn.BatchNorm2d(128),\n",
    "              nn.ReLU(),\n",
    "              nn.MaxPool2d(2, stride=2),\n",
    "              nn.Conv2d(128, 256, 3, padding=1), # 8\n",
    "              nn.BatchNorm2d(256),\n",
    "              nn.ReLU(),\n",
    "              nn.MaxPool2d(2, stride=2),\n",
    "              nn.Conv2d(256, 512, 3, padding=1), # 4\n",
    "              nn.BatchNorm2d(512),\n",
    "              nn.ReLU(),\n",
    "              nn.MaxPool2d(2, stride=2),\n",
    "              nn.Conv2d(512, 1024, 3, padding=1), # 2\n",
    "              nn.BatchNorm2d(1024),\n",
    "              nn.ReLU(),\n",
    "              nn.MaxPool2d(2, stride=2),\n",
    "              nn.Conv2d(1024, 62, 1), # 1\n",
    "              nn.BatchNorm2d(62),\n",
    "              nn.Flatten(),\n",
    "              nn.Softmax(dim=1)\n",
    "          )"
   ]
  },
  {
   "cell_type": "code",
   "execution_count": 41,
   "metadata": {
    "colab": {
     "base_uri": "https://localhost:8080/"
    },
    "id": "dxpJ-tky-7iF",
    "outputId": "fc63a1ab-43e2-4f36-a25f-f76935879d71"
   },
   "outputs": [
    {
     "name": "stdout",
     "output_type": "stream",
     "text": [
      "Using cuda device\n"
     ]
    }
   ],
   "source": [
    "device = \"cuda\" if torch.cuda.is_available() else \"cpu\"\n",
    "print(\"Using {} device\".format(device))"
   ]
  },
  {
   "cell_type": "code",
   "execution_count": 42,
   "metadata": {
    "colab": {
     "base_uri": "https://localhost:8080/"
    },
    "id": "ngeJVkqX-7iM",
    "outputId": "861821cc-1762-4a2f-a763-8a5064557038"
   },
   "outputs": [
    {
     "data": {
      "text/plain": [
       "(78120, 32, 32, 3)"
      ]
     },
     "execution_count": 42,
     "metadata": {},
     "output_type": "execute_result"
    }
   ],
   "source": [
    "data.data.shape"
   ]
  },
  {
   "cell_type": "code",
   "execution_count": 42,
   "metadata": {
    "id": "inxb0-B8-7iN"
   },
   "outputs": [],
   "source": []
  },
  {
   "cell_type": "code",
   "execution_count": 43,
   "metadata": {
    "colab": {
     "base_uri": "https://localhost:8080/"
    },
    "id": "QTjIxKKD-7iO",
    "outputId": "ec00bb7a-c18d-4715-df34-114db341d818"
   },
   "outputs": [
    {
     "name": "stdout",
     "output_type": "stream",
     "text": [
      "Shape of X [N, C, H, W]:  torch.Size([128, 3, 32, 32])\n",
      "Shape of y:  torch.Size([128]) torch.int64\n"
     ]
    }
   ],
   "source": [
    "batch_size = 128\n",
    "train_aug_dataloader = DataLoader(train_data, batch_size=batch_size)\n",
    "val_dataloader = DataLoader(val_data, batch_size=batch_size) # это не настоящий val dataloader\n",
    "\n",
    "\n",
    "for X, y in train_aug_dataloader:\n",
    "    print(\"Shape of X [N, C, H, W]: \", X.shape)\n",
    "    print(\"Shape of y: \", y.shape, y.dtype)\n",
    "    break"
   ]
  },
  {
   "cell_type": "code",
   "execution_count": 44,
   "metadata": {
    "colab": {
     "base_uri": "https://localhost:8080/",
     "height": 404
    },
    "id": "jryz2jTK-7iQ",
    "outputId": "7fa1473e-4fd6-47a7-b67c-43d021fe6df8"
   },
   "outputs": [
    {
     "data": {
      "image/png": "[encoded data removed]",
      "text/plain": [
       "<Figure size 1440x360 with 2 Axes>"
      ]
     },
     "metadata": {
      "needs_background": "light"
     },
     "output_type": "display_data"
    },
    {
     "name": "stderr",
     "output_type": "stream",
     "text": [
      "100%|██████████| 25/25 [14:48<00:00, 35.54s/it]\n"
     ]
    }
   ],
   "source": [
    "model = create_FullyConv_model()\n",
    "model = model.to(device)\n",
    "\n",
    "loss_fn = nn.CrossEntropyLoss()\n",
    "optimizer = torch.optim.Adam(model.parameters(), lr=1e-3)\n",
    "#scheduler = torch.optim.lr_scheduler.StepLR(optimizer, step_size=15, gamma=0.3)\n",
    "\n",
    "interval = 1000\n",
    "train_ts, train_loss = [], []\n",
    "val_ts, val_loss, val_acc = [], [], []\n",
    "\n",
    "epochs = 25\n",
    "for t in trange(epochs):\n",
    "    train(t, train_aug_dataloader, model, loss_fn, optimizer, show_progr=True, scheduler=None)\n",
    "    test(t, val_dataloader, model, loss_fn, show_progr=True)"
   ]
  },
  {
   "cell_type": "code",
   "execution_count": 44,
   "metadata": {
    "id": "G3oaTJZs-7iS"
   },
   "outputs": [],
   "source": []
  },
  {
   "cell_type": "code",
   "execution_count": 44,
   "metadata": {
    "id": "-daNB_X2-7iS"
   },
   "outputs": [],
   "source": []
  }
 ],
 "metadata": {
  "colab": {
   "name": "resnet.ipynb",
   "provenance": []
  },
  "kernelspec": {
   "display_name": "Python 3",
   "language": "python",
   "name": "python3"
  },
  "language_info": {
   "codemirror_mode": {
    "name": "ipython",
    "version": 3
   },
   "file_extension": ".py",
   "mimetype": "text/x-python",
   "name": "python",
   "nbconvert_exporter": "python",
   "pygments_lexer": "ipython3",
   "version": "3.8.5"
  }
 },
 "nbformat": 4,
 "nbformat_minor": 1
}
