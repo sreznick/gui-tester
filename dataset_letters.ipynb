{
 "cells": [
  {
   "cell_type": "code",
   "execution_count": 302,
   "metadata": {},
   "outputs": [],
   "source": [
    "fontTypes=[cv2.FONT_HERSHEY_SIMPLEX, cv2.FONT_HERSHEY_PLAIN, cv2.FONT_HERSHEY_DUPLEX, cv2.FONT_HERSHEY_COMPLEX, cv2.FONT_HERSHEY_TRIPLEX, cv2.FONT_HERSHEY_COMPLEX_SMALL, cv2.FONT_HERSHEY_SCRIPT_SIMPLEX, cv2.FONT_HERSHEY_SCRIPT_COMPLEX,cv2.FONT_ITALIC]\n",
    "fontsize=[21,9,21,21,22,15,21,23,23]"
   ]
  },
  {
   "cell_type": "code",
   "execution_count": 309,
   "metadata": {},
   "outputs": [],
   "source": [
    "import string\n",
    "rus='абвгдеёжзийклмнопрстуфхцчшщъыьэюя'\n",
    "rus= u'абвгдеёжзийклмнопрстуфхцчшщъыьэюя'\n",
    "digit='0123456789'\n",
    "# charactersList = list(string.ascii_lowercase)+list(string.ascii_uppercase)+list(rus)+list(rus.upper())+list(digit)\n",
    "# charactersList =['a','b',u'д']\n",
    "charactersList = list(string.ascii_lowercase)+list(string.ascii_uppercase)+list(digit)\n",
    "\n",
    "# charactersList\n",
    "# rus.upper()\n"
   ]
  },
  {
   "cell_type": "code",
   "execution_count": 310,
   "metadata": {},
   "outputs": [],
   "source": [
    "from PIL import Image, ImageDraw, ImageFont\n",
    "import os,glob\n",
    "import numpy as np\n",
    "import random\n",
    "import matplotlib.pylab as plt\n",
    "\n",
    "import cv2\n",
    "\n",
    "# charactersList=['a','b','c','d','e','f','g','h','i','j','k','l','m','n','o','p','q','r','s','t','u','v','w','x','y','z','A','B','C','D','E','F','G','H','I','J','K','L','M','N','O','P','Q','R','S','T','U','V','W','X','Y','Z','0','1','2','3','4','5','6','7','8','9']\n",
    "\n",
    "\n",
    "image = img = np.zeros((512,512,3), np.uint8)+255\n",
    "h,w,_ = image.shape\n",
    "\n",
    "for k in range(0,200,20):             \n",
    "                 colorlist.append((k,k,k))"
   ]
  },
  {
   "cell_type": "code",
   "execution_count": 305,
   "metadata": {},
   "outputs": [],
   "source": [
    "# colorlist=[(0,0,0)]"
   ]
  },
  {
   "cell_type": "code",
   "execution_count": 306,
   "metadata": {},
   "outputs": [],
   "source": [
    "\n",
    "# colorlist=[(0,0,0)]\n",
    "# i=8\n",
    "\n",
    "# color = (0,0,0)\n",
    "# fontScale =256//fontsize[i]\n",
    "# org = (int(h/2)-fontsize[i]*fontScale//3, int(w/2)+fontsize[i]*fontScale//2)\n",
    "# font = fontTypes[i]\n",
    "# thickness=5\n",
    "# text='h'\n",
    "# image0 = cv2.putText(image, text, org, font, fontScale, \n",
    "#                          color, thickness, cv2.LINE_AA, False)\n",
    "# plt.imshow(image0)\n"
   ]
  },
  {
   "cell_type": "code",
   "execution_count": 311,
   "metadata": {},
   "outputs": [],
   "source": [
    "def vertical_enh(image0,k=2):\n",
    "    new_height=int(image0.shape[0]*k)\n",
    "    dsize = (image0.shape[1], new_height)\n",
    "    output = cv2.resize(image0, dsize, interpolation = cv2.INTER_AREA)\n",
    "    m=new_height-image0.shape[0]\n",
    "    m=m//2\n",
    "    output=output[m:new_height-m,:]\n",
    "#     plt.imshow(output)\n",
    "    return output\n",
    "    \n",
    "def horizontal_enh(image0,k=2):\n",
    "    new_width=int(image0.shape[1]*k)\n",
    "    dsize = (new_width,image0.shape[0])\n",
    "    output = cv2.resize(image0, dsize, interpolation = cv2.INTER_AREA)\n",
    "    m=new_width-image0.shape[1]\n",
    "    m=m//2\n",
    "    output=output[:,m:new_width-m]\n",
    "#     print(output.shape,new_width)\n",
    "#     plt.imshow(output)    \n",
    "    return output\n",
    "    \n",
    "# vertical_enh(image0,k=1.2)\n",
    "# horizontal_enh(image0,k=2.9)"
   ]
  },
  {
   "cell_type": "code",
   "execution_count": 312,
   "metadata": {},
   "outputs": [],
   "source": [
    "    \n",
    "for text in charactersList:\n",
    "    print(f'{text} symbol begins')\n",
    "    for i in range(9):\n",
    "        fontScale =256//fontsize[i]\n",
    "        org = (int(h/2)-fontsize[i]*fontScale//3, int(w/2)+fontsize[i]*fontScale*2//5)\n",
    "        font = fontTypes[i]\n",
    "    #     org = (int(h/2), int(w/2))\n",
    "    #     fontScale = 10\n",
    "        for color_num,color in enumerate(colorlist):  \n",
    "            for thickness in range(2,23,4):\n",
    "                img = np.zeros((512,512,3), np.uint8)+255\n",
    "                image0 = cv2.putText(img, text, org, font, fontScale, \n",
    "                             color, thickness, cv2.LINE_AA, False)\n",
    "\n",
    "                name=\"letter_dataset\\ \"+str(text)+'_font'+str(i)+'_clr'+str(color_num)+'_th'+str(thickness)+\".jpg\"\n",
    "                isWritten = cv2.imwrite(name, image0)\n",
    "                k = 1\n",
    "                while k<1.6:\n",
    "                    k=k+0.5\n",
    "                    vert = vertical_enh(image0,k)\n",
    "                    name=\"letter_dataset\\ \"+str(text)+'_font'+str(i)+'_clr'+str(color_num)+'_th'+str(thickness)+'_vert'+str(k)+\".jpg\"\n",
    "                    isWritten = cv2.imwrite(name, vert)\n",
    "                    hor = horizontal_enh(image0,k)\n",
    "                    name=\"letter_dataset\\ \"+str(text)+'_font'+str(i)+'_clr'+str(color_num)+'_th'+str(thickness)+'_hor'+str(k)+\".jpg\"\n",
    "                    isWritten = cv2.imwrite(name, hor)"
   ]
  },
  {
   "cell_type": "code",
   "execution_count": 313,
   "metadata": {},
   "outputs": [
    {
     "name": "stdout",
     "output_type": "stream",
     "text": [
      "9 symbol begins\n"
     ]
    }
   ],
   "source": []
  },
  {
   "cell_type": "code",
   "execution_count": null,
   "metadata": {},
   "outputs": [],
   "source": []
  }
 ],
 "metadata": {
  "kernelspec": {
   "display_name": "Python 3",
   "language": "python",
   "name": "python3"
  },
  "language_info": {
   "codemirror_mode": {
    "name": "ipython",
    "version": 3
   },
   "file_extension": ".py",
   "mimetype": "text/x-python",
   "name": "python",
   "nbconvert_exporter": "python",
   "pygments_lexer": "ipython3",
   "version": "3.8.5"
  }
 },
 "nbformat": 4,
 "nbformat_minor": 4
}
